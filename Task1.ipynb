{
  "nbformat": 4,
  "nbformat_minor": 0,
  "metadata": {
    "colab": {
      "provenance": []
    },
    "kernelspec": {
      "name": "python3",
      "display_name": "Python 3"
    },
    "language_info": {
      "name": "python"
    }
  },
  "cells": [
    {
      "cell_type": "code",
      "execution_count": 15,
      "metadata": {
        "id": "wDgTcMYjhMhZ"
      },
      "outputs": [],
      "source": [
        "import os\n",
        "\n",
        "def create_project_structure(base_dir):\n",
        "    # Create the directory structure\n",
        "    directories = [\n",
        "        'data_raw',\n",
        "        'data_clean',\n",
        "        'results',\n",
        "        'src'\n",
        "    ]\n",
        "\n",
        "    for directory in directories:\n",
        "        os.makedirs(os.path.join(base_dir, directory), exist_ok=True)\n",
        "\n",
        "base_dir = 'frailty_project'\n",
        "create_project_structure(base_dir)\n",
        "\n"
      ]
    },
    {
      "cell_type": "code",
      "source": [
        "import pandas as pd\n",
        "\n",
        "# Create the raw frailty data\n",
        "data = {\n",
        "    'Height': [65.8, 71.5, 69.4, 68.2, 67.8, 68.7, 69.8, 70.1, 67.9, 66.8],\n",
        "    'Weight': [112, 136, 153, 142, 144, 123, 141, 136, 112, 120],\n",
        "    'Age': [30, 19, 45, 22, 29, 50, 51, 23, 17, 39],\n",
        "    'Grip_strength': [30, 31, 29, 28, 24, 26, 22, 20, 19, 31],\n",
        "    'Frailty': ['N', 'N', 'N', 'Y', 'Y', 'N', 'Y', 'Y', 'N', 'N']\n",
        "}\n",
        "\n",
        "df = pd.DataFrame(data)\n",
        "\n",
        "# Save the raw data to the data_raw directory\n",
        "df.to_csv(os.path.join(base_dir, 'data_raw/frailty_data.csv'), index=False)\n"
      ],
      "metadata": {
        "id": "hxYwCTUxhUQC"
      },
      "execution_count": 16,
      "outputs": []
    },
    {
      "cell_type": "code",
      "source": [
        "readme_content = \"\"\"\n",
        "Frailty Data Description:\n",
        "- This dataset contains measurements from 10 female participants.\n",
        "- Columns include:\n",
        "    - Height: Height in inches.\n",
        "    - Weight: Weight in pounds.\n",
        "    - Age: Age in years.\n",
        "    - Grip_strength: Hand grip strength in kilograms.\n",
        "    - Frailty: A binary categorical variable (Y = frail, N = not frail).\n",
        "\"\"\"\n",
        "\n",
        "with open(os.path.join(base_dir, 'data_raw/README.txt'), 'w') as f:\n",
        "    f.write(readme_content)\n"
      ],
      "metadata": {
        "id": "cSJTuzyEhjeg"
      },
      "execution_count": 17,
      "outputs": []
    },
    {
      "cell_type": "code",
      "source": [
        "# Step 3: Write the cleaning script\n",
        "def write_cleaning_script(base_dir):\n",
        "    clean_code = '''\\\n",
        "import pandas as pd\n",
        "import os\n",
        "\n",
        "# Load the raw data\n",
        "df = pd.read_csv(os.path.join('data_raw', 'frailty_data.csv'))\n",
        "\n",
        "# Remove rows with missing values (not applicable here, but good practice)\n",
        "df.dropna(inplace=True)\n",
        "\n",
        "# Convert categorical variables to numeric\n",
        "df['Frailty'] = df['Frailty'].map({'N': 0, 'Y': 1})\n",
        "\n",
        "# Save the cleaned data\n",
        "df.to_csv(os.path.join('data_clean', 'clean_frailty_data.csv'), index=False)\n",
        "print(\"Cleaned data saved as 'clean_frailty_data.csv'\")\n",
        "'''\n",
        "\n",
        "    with open(os.path.join(base_dir, 'src', 'clean_data.py'), 'w') as f:\n",
        "        f.write(clean_code)\n",
        "\n",
        "# Step 4: Write the analysis script\n",
        "def write_analysis_script(base_dir):\n",
        "    analysis_code = '''\\\n",
        "import pandas as pd\n",
        "import os\n",
        "\n",
        "# Load the cleaned data\n",
        "df = pd.read_csv(os.path.join('data_clean', 'clean_frailty_data.csv'))\n",
        "\n",
        "# Perform basic analysis\n",
        "mean_grip_strength = df['Grip_strength'].mean()\n",
        "frailty_count = df['Frailty'].value_counts()\n",
        "\n",
        "# Save results to a text file\n",
        "with open(os.path.join('results', 'analysis_results.txt'), 'w') as f:\n",
        "    f.write(f\"Mean Grip Strength: {mean_grip_strength:.2f} kg\\\\n\")\n",
        "    f.write(\"Frailty Counts:\\\\n\")\n",
        "    f.write(f\"{frailty_count}\\\\n\")\n",
        "print(\"Analysis results saved to 'analysis_results.txt'\")\n",
        "'''\n",
        "\n",
        "    with open(os.path.join(base_dir, 'src', 'analysis.py'), 'w') as f:\n",
        "        f.write(analysis_code)\n",
        "\n"
      ],
      "metadata": {
        "id": "k0AySkGTroIL"
      },
      "execution_count": 18,
      "outputs": []
    },
    {
      "cell_type": "code",
      "source": [
        "import pandas as pd\n",
        "\n",
        "# Load the raw data\n",
        "raw_data_path = os.path.join(base_dir, 'data_raw/frailty_data.csv')\n",
        "df = pd.read_csv(raw_data_path)\n",
        "\n",
        "# Clean the data (e.g., remove missing values)\n",
        "df_clean = df.dropna()\n",
        "\n",
        "# Save the cleaned data to the data_clean directory\n",
        "clean_data_path = os.path.join(base_dir, 'data_clean/clean_frailty_data.csv')\n",
        "df_clean.to_csv(clean_data_path, index=False)\n",
        "\n",
        "print(\"Data cleaning complete. Clean data saved to:\", clean_data_path)\n",
        "\n",
        "\n"
      ],
      "metadata": {
        "colab": {
          "base_uri": "https://localhost:8080/"
        },
        "id": "HQi6woevieSm",
        "outputId": "39896fc8-4b6b-4a38-e32b-2dba8d7ae09f"
      },
      "execution_count": 19,
      "outputs": [
        {
          "output_type": "stream",
          "name": "stdout",
          "text": [
            "Data cleaning complete. Clean data saved to: frailty_project/data_clean/clean_frailty_data.csv\n"
          ]
        }
      ]
    },
    {
      "cell_type": "code",
      "source": [
        "import pandas as pd\n",
        "\n",
        "# Load the cleaned data\n",
        "clean_data_path = os.path.join(base_dir, 'data_clean/clean_frailty_data.csv')\n",
        "df_clean = pd.read_csv(clean_data_path)\n",
        "\n",
        "# Perform a simple analysis: summary statistics\n",
        "summary_stats = df_clean.describe()\n",
        "\n",
        "# Check grip strength by frailty status\n",
        "frailty_summary = df_clean.groupby('Frailty')['Grip_strength'].mean()\n",
        "\n",
        "# Write the analysis results to a text file\n",
        "analysis_results = f\"\"\"\n",
        "Summary Statistics:\n",
        "{summary_stats}\n",
        "\n",
        "Average Grip Strength by Frailty Status:\n",
        "{frailty_summary}\n",
        "\"\"\"\n",
        "\n",
        "with open(os.path.join(base_dir, 'results/analysis_results.txt'), 'w') as f:\n",
        "    f.write(analysis_results)\n",
        "\n",
        "print(\"Analysis complete. Results saved to results/analysis_results.txt\")\n"
      ],
      "metadata": {
        "colab": {
          "base_uri": "https://localhost:8080/"
        },
        "id": "Qs2ys4SFimbx",
        "outputId": "9d691c26-67bb-498b-b6fb-6762299885e1"
      },
      "execution_count": 20,
      "outputs": [
        {
          "output_type": "stream",
          "name": "stdout",
          "text": [
            "Analysis complete. Results saved to results/analysis_results.txt\n"
          ]
        }
      ]
    },
    {
      "cell_type": "code",
      "source": [
        "cat frailty_project/results/analysis_results.txt\n"
      ],
      "metadata": {
        "colab": {
          "base_uri": "https://localhost:8080/"
        },
        "id": "PhA4pxPmiqIS",
        "outputId": "1f4cd467-b43b-46c9-a8d8-da5d8afee312"
      },
      "execution_count": 21,
      "outputs": [
        {
          "output_type": "stream",
          "name": "stdout",
          "text": [
            "\n",
            "Summary Statistics:\n",
            "          Height      Weight        Age  Grip_strength\n",
            "count  10.000000   10.000000  10.000000      10.000000\n",
            "mean   68.600000  131.900000  32.500000      26.000000\n",
            "std     1.670662   14.231811  12.860361       4.521553\n",
            "min    65.800000  112.000000  17.000000      19.000000\n",
            "25%    67.825000  120.750000  22.250000      22.500000\n",
            "50%    68.450000  136.000000  29.500000      27.000000\n",
            "75%    69.700000  141.750000  43.500000      29.750000\n",
            "max    71.500000  153.000000  51.000000      31.000000\n",
            "\n",
            "Average Grip Strength by Frailty Status:\n",
            "Frailty\n",
            "N    27.666667\n",
            "Y    23.500000\n",
            "Name: Grip_strength, dtype: float64\n"
          ]
        }
      ]
    }
  ]
}